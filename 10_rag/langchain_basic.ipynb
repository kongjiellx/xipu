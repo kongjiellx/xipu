{
 "cells": [
  {
   "cell_type": "markdown",
   "metadata": {},
   "source": [
    "我们将使用langchain来完成接下来的实验。langchain是一个LLM应用开发框架，下面是一个基本例子。"
   ]
  },
  {
   "cell_type": "code",
   "execution_count": 5,
   "metadata": {},
   "outputs": [],
   "source": [
    "from langchain_community.chat_models import ChatOllama\n",
    "from langchain_core.prompts import ChatPromptTemplate"
   ]
  },
  {
   "cell_type": "code",
   "execution_count": 6,
   "metadata": {},
   "outputs": [],
   "source": [
    "# 首先，定义模型，我们使用qwen:4b模型\n",
    "llm = ChatOllama(model=\"qwen:4b\")"
   ]
  },
  {
   "cell_type": "code",
   "execution_count": 7,
   "metadata": {},
   "outputs": [],
   "source": [
    "# 然后定义prompt，这里的意思是根据模型内置的chat模版来生成prompt，这里我们使用了user_input变量作为站位\n",
    "prompt = ChatPromptTemplate.from_messages([\n",
    "    (\"user\", \"{user_input}\")\n",
    "])"
   ]
  },
  {
   "cell_type": "code",
   "execution_count": 9,
   "metadata": {},
   "outputs": [],
   "source": [
    "# 讲prompt和llm组合成一个chain，意思就是它们会顺序执行，根据用户输入生成prompt之后传给模型\n",
    "basic_chain = (prompt | llm)"
   ]
  },
  {
   "cell_type": "code",
   "execution_count": 10,
   "metadata": {},
   "outputs": [
    {
     "data": {
      "text/plain": [
       "AIMessage(content='中国的首都是北京。\\n', response_metadata={'model': 'qwen:4b', 'created_at': '2024-04-23T13:26:19.518641Z', 'message': {'role': 'assistant', 'content': ''}, 'done': True, 'total_duration': 508492583, 'load_duration': 9162291, 'prompt_eval_duration': 167543000, 'eval_count': 8, 'eval_duration': 328456000}, id='run-d2d0eb30-7be3-4904-9506-0c7d8f65d1e5-0')"
      ]
     },
     "execution_count": 10,
     "metadata": {},
     "output_type": "execute_result"
    }
   ],
   "source": [
    "# 接下来运行chain，就可以看到返回的结果了\n",
    "basic_chain.invoke({\"user_input\": \"中国的首都是哪里？\"})"
   ]
  },
  {
   "cell_type": "code",
   "execution_count": null,
   "metadata": {},
   "outputs": [],
   "source": []
  }
 ],
 "metadata": {
  "kernelspec": {
   "display_name": "xipu",
   "language": "python",
   "name": "python3"
  },
  "language_info": {
   "codemirror_mode": {
    "name": "ipython",
    "version": 3
   },
   "file_extension": ".py",
   "mimetype": "text/x-python",
   "name": "python",
   "nbconvert_exporter": "python",
   "pygments_lexer": "ipython3",
   "version": "3.11.0"
  }
 },
 "nbformat": 4,
 "nbformat_minor": 2
}
